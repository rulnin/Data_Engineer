{
 "cells": [
  {
   "cell_type": "markdown",
   "metadata": {},
   "source": [
    "### 1. Tuliskan skrip Python yang mencetak angka dari 1 sampai 10 menggunakan loop for.\n"
   ]
  },
  {
   "cell_type": "code",
   "execution_count": 1,
   "metadata": {},
   "outputs": [
    {
     "name": "stdout",
     "output_type": "stream",
     "text": [
      "1\n",
      "2\n",
      "3\n",
      "4\n",
      "5\n",
      "6\n",
      "7\n",
      "8\n",
      "9\n",
      "10\n"
     ]
    }
   ],
   "source": [
    "for i in range(1,11):\n",
    "    print(i)"
   ]
  },
  {
   "cell_type": "markdown",
   "metadata": {},
   "source": [
    "### 2. Buatlah fungsi Python dengan nama is_even yang menerima sebuah integer sebagai argumen dan mengembalikan True jika angka tersebut genap dan False jika ganjil.\n"
   ]
  },
  {
   "cell_type": "code",
   "execution_count": 3,
   "metadata": {},
   "outputs": [
    {
     "name": "stdout",
     "output_type": "stream",
     "text": [
      "True\n",
      "False\n"
     ]
    }
   ],
   "source": [
    "def is_even(number):\n",
    "    if number % 2 == 0:\n",
    "        return True\n",
    "    else:\n",
    "        return False\n",
    "\n",
    "# Using Function\n",
    "print(is_even(4)) # Output: True\n",
    "print(is_even(5)) # Output: False"
   ]
  },
  {
   "cell_type": "markdown",
   "metadata": {},
   "source": [
    "### 3. Tulislah sebuah fungsi Python sum_list yang menerima sebuah list angka sebagai argumen dan mengembalikan jumlah dari semua angka dalam list tersebut. Gunakan loop for untuk mengiterasi list.\n"
   ]
  },
  {
   "cell_type": "code",
   "execution_count": 4,
   "metadata": {},
   "outputs": [
    {
     "name": "stdout",
     "output_type": "stream",
     "text": [
      "10\n"
     ]
    }
   ],
   "source": [
    "def sum_list(number):\n",
    "    total=0\n",
    "    for num in number:\n",
    "        total += num\n",
    "    return total\n",
    "\n",
    "# Using Function\n",
    "angka = [1, 2, 3, 4]\n",
    "\n",
    "print(sum_list(angka))"
   ]
  },
  {
   "cell_type": "markdown",
   "metadata": {},
   "source": [
    "### 4. Kembangkan sebuah fungsi Python yang disebut find_min_max yang menerima sebuah list integer dan mengembalikan sebuah tuple yang mengandung angka terkecil dan terbesar dari list tersebut. Jangan gunakan fungsi bawaan min() atau max(), melainkan gunakan loop for untuk mengiterasi list.\n"
   ]
  },
  {
   "cell_type": "code",
   "execution_count": 8,
   "metadata": {},
   "outputs": [
    {
     "name": "stdout",
     "output_type": "stream",
     "text": [
      "(1, 50)\n"
     ]
    }
   ],
   "source": [
    "def find_min_max(numbers):\n",
    "    \n",
    "    # Initialitation\n",
    "    min_number = numbers[0]\n",
    "    max_number = numbers[0]\n",
    "\n",
    "    # Iteration\n",
    "    for num in numbers:\n",
    "        if num < min_number:\n",
    "            min_number = num\n",
    "        elif num > max_number:\n",
    "            max_number = num\n",
    "\n",
    "    return (min_number,max_number)\n",
    "\n",
    "# Using Function\n",
    "angka = [10, 20, 30, 1, 50]\n",
    "print(find_min_max(angka))"
   ]
  },
  {
   "cell_type": "markdown",
   "metadata": {},
   "source": [
    "### 5. Tuliskan sebuah fungsi Python group_characters yang menerima sebuah string dan mengembalikan sebuah kamus di mana kunci adalah karakter dalam string dan nilai adalah jumlah kemunculan karakter tersebut dalam string tersebut.\n"
   ]
  },
  {
   "cell_type": "code",
   "execution_count": 9,
   "metadata": {},
   "outputs": [
    {
     "name": "stdout",
     "output_type": "stream",
     "text": [
      "{'h': 1, 'e': 1, 'l': 3, 'o': 2, ' ': 1, 'w': 1, 'r': 1, 'd': 1}\n"
     ]
    }
   ],
   "source": [
    "def group_characters(string):\n",
    "\n",
    "    # Initialitation\n",
    "    character_counts = {}\n",
    "\n",
    "    # Iteration\n",
    "    for char in string:\n",
    "        if char in character_counts:\n",
    "            character_counts[char] += 1\n",
    "        else:\n",
    "            character_counts[char] = 1\n",
    "    \n",
    "    return character_counts\n",
    "\n",
    "# Using Function\n",
    "print (group_characters('hello world'))"
   ]
  }
 ],
 "metadata": {
  "kernelspec": {
   "display_name": "base",
   "language": "python",
   "name": "python3"
  },
  "language_info": {
   "codemirror_mode": {
    "name": "ipython",
    "version": 3
   },
   "file_extension": ".py",
   "mimetype": "text/x-python",
   "name": "python",
   "nbconvert_exporter": "python",
   "pygments_lexer": "ipython3",
   "version": "3.9.12"
  },
  "orig_nbformat": 4,
  "vscode": {
   "interpreter": {
    "hash": "f3f86a57bf45b2fd97f81e9400e80b93fa0af592f546e72a580ff18100fe9298"
   }
  }
 },
 "nbformat": 4,
 "nbformat_minor": 2
}
